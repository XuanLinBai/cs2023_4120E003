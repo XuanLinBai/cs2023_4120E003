{
  "nbformat": 4,
  "nbformat_minor": 0,
  "metadata": {
    "colab": {
      "provenance": [],
      "authorship_tag": "ABX9TyNaz+GshsNuV1dIWPJbRCVe",
      "include_colab_link": true
    },
    "kernelspec": {
      "name": "python3",
      "display_name": "Python 3"
    },
    "language_info": {
      "name": "python"
    }
  },
  "cells": [
    {
      "cell_type": "markdown",
      "metadata": {
        "id": "view-in-github",
        "colab_type": "text"
      },
      "source": [
        "<a href=\"https://colab.research.google.com/github/XuanLinBai/cs2023_4120E003/blob/main/1120913_4120E003.ipynb\" target=\"_parent\"><img src=\"https://colab.research.google.com/assets/colab-badge.svg\" alt=\"Open In Colab\"/></a>"
      ]
    },
    {
      "cell_type": "code",
      "execution_count": 9,
      "metadata": {
        "colab": {
          "base_uri": "https://localhost:8080/"
        },
        "id": "N9sBRKS9jsG5",
        "outputId": "e6d2fb47-fd7a-4362-9e50-9ccaa68da76b"
      },
      "outputs": [
        {
          "output_type": "stream",
          "name": "stdout",
          "text": [
            "enter nuber A : 2\n",
            "enter nuber B : 3\n",
            "A^b =  8\n"
          ]
        }
      ],
      "source": [
        "a=int(input('enter nuber A : '))\n",
        "b=int(input('enter nuber B : '))\n",
        "print('A^b = ',a**b)"
      ]
    }
  ]
}